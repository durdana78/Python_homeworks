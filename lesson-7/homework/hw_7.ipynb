{
 "cells": [
  {
   "cell_type": "code",
   "execution_count": 4,
   "metadata": {},
   "outputs": [],
   "source": [
    "import numpy as np"
   ]
  },
  {
   "cell_type": "code",
   "execution_count": 40,
   "metadata": {},
   "outputs": [],
   "source": [
    "class Vectors:\n",
    "    def __init__(self, *args):\n",
    "        self.list = args\n",
    "\n",
    "    def vectorizer(self):\n",
    "        vctr = np.array(self.list)\n",
    "        return vctr\n"
   ]
  },
  {
   "cell_type": "code",
   "execution_count": 42,
   "metadata": {},
   "outputs": [
    {
     "name": "stdout",
     "output_type": "stream",
     "text": [
      "[[1 2 3 4 5]\n",
      " [1 2 3 4 5]\n",
      " [1 2 3 4 5]]\n"
     ]
    }
   ],
   "source": [
    "v = Vectors([1, 2, 3, 4, 5], [1, 2, 3, 4, 5], [1, 2, 3, 4, 5])\n",
    "vector = v.vectorizer()\n",
    "print(str(vector))"
   ]
  },
  {
   "cell_type": "code",
   "execution_count": 49,
   "metadata": {},
   "outputs": [
    {
     "name": "stdout",
     "output_type": "stream",
     "text": [
      "[2 4 6 8 5]\n"
     ]
    }
   ],
   "source": [
    "vc1 = Vectors(1, 2, 3, 4, 5).vectorizer()\n",
    "vc2 = Vectors(1, 2, 3, 4, 0).vectorizer()\n",
    "sum = vc1 + vc2\n",
    "print(str(sum))"
   ]
  },
  {
   "cell_type": "code",
   "execution_count": 50,
   "metadata": {},
   "outputs": [
    {
     "name": "stdout",
     "output_type": "stream",
     "text": [
      "[0 0 0 0 5]\n"
     ]
    }
   ],
   "source": [
    "substraction = vc1 - vc2\n",
    "print(str(substraction))"
   ]
  },
  {
   "cell_type": "code",
   "execution_count": 53,
   "metadata": {},
   "outputs": [
    {
     "name": "stdout",
     "output_type": "stream",
     "text": [
      "30\n"
     ]
    }
   ],
   "source": [
    "dot_product = np.dot(vc1, vc2)\n",
    "print(str(dot_product))"
   ]
  },
  {
   "cell_type": "code",
   "execution_count": 52,
   "metadata": {},
   "outputs": [
    {
     "name": "stdout",
     "output_type": "stream",
     "text": [
      "7.416198487095663 5.477225575051661\n"
     ]
    }
   ],
   "source": [
    "magnitute1 = np.linalg.norm(vc1)\n",
    "magnitute2 = np.linalg.norm(vc2)\n",
    "print(str(magnitute1), str(magnitute2))"
   ]
  },
  {
   "cell_type": "code",
   "execution_count": 55,
   "metadata": {},
   "outputs": [
    {
     "name": "stdout",
     "output_type": "stream",
     "text": [
      "[0.13483997 0.26967994 0.40451992 0.53935989 0.67419986]\n"
     ]
    }
   ],
   "source": [
    "if magnitute1 != 0 :\n",
    "    normalized_vector = vc1 / magnitute1\n",
    "    print(str(normalized_vector))\n",
    "else :\n",
    "    print(str(normalized_vector))     "
   ]
  }
 ],
 "metadata": {
  "kernelspec": {
   "display_name": "Python 3",
   "language": "python",
   "name": "python3"
  },
  "language_info": {
   "codemirror_mode": {
    "name": "ipython",
    "version": 3
   },
   "file_extension": ".py",
   "mimetype": "text/x-python",
   "name": "python",
   "nbconvert_exporter": "python",
   "pygments_lexer": "ipython3",
   "version": "3.10.11"
  }
 },
 "nbformat": 4,
 "nbformat_minor": 2
}
